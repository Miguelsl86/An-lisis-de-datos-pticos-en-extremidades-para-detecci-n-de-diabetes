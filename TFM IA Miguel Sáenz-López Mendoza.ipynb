{
 "cells": [
  {
   "cell_type": "code",
   "execution_count": 1,
   "id": "19090bfe",
   "metadata": {
    "scrolled": true
   },
   "outputs": [],
   "source": [
    "# Tratamiento de datos\n",
    "# ==============================================================================\n",
    "import pandas as pd\n",
    "import numpy as np\n",
    "import keras\n",
    "# Gráficos\n",
    "# ==============================================================================\n",
    "import matplotlib.pyplot as plt\n",
    "from matplotlib import style\n",
    "import seaborn as sns\n",
    "\n",
    "# Preprocesado y modelado\n",
    "# ==============================================================================\n",
    "from sklearn.linear_model import LogisticRegression\n",
    "from sklearn.model_selection import train_test_split\n",
    "from sklearn.metrics import accuracy_score\n",
    "import statsmodels.api as sm\n",
    "import statsmodels.formula.api as smf\n",
    "from statsmodels.stats.weightstats import ttest_ind\n",
    "import enum\n",
    "from sklearn import tree\n",
    "from sklearn import preprocessing\n",
    "from sklearn import metrics\n",
    "from sklearn.ensemble import RandomForestRegressor, RandomForestClassifier\n",
    "from sklearn.model_selection import train_test_split, GridSearchCV\n",
    "from scipy.stats import reciprocal, uniform\n",
    "from sklearn.svm import SVC\n",
    "from sklearn.neural_network import MLPClassifier\n",
    "\n",
    "# Configuración matplotlib\n",
    "# ==============================================================================\n",
    "plt.rcParams['image.cmap'] = \"bwr\"\n",
    "#plt.rcParams['figure.dpi'] = \"100\"\n",
    "plt.rcParams['savefig.bbox'] = \"tight\"\n",
    "style.use('ggplot') or plt.style.use('ggplot')\n",
    "\n",
    "# Configuración warnings\n",
    "# ==============================================================================\n",
    "import warnings\n",
    "warnings.filterwarnings('ignore')\n"
   ]
  },
  {
   "cell_type": "code",
   "execution_count": 2,
   "id": "b13c3943",
   "metadata": {
    "scrolled": true
   },
   "outputs": [
    {
     "data": {
      "text/html": [
       "<div>\n",
       "<style scoped>\n",
       "    .dataframe tbody tr th:only-of-type {\n",
       "        vertical-align: middle;\n",
       "    }\n",
       "\n",
       "    .dataframe tbody tr th {\n",
       "        vertical-align: top;\n",
       "    }\n",
       "\n",
       "    .dataframe thead th {\n",
       "        text-align: right;\n",
       "    }\n",
       "</style>\n",
       "<table border=\"1\" class=\"dataframe\">\n",
       "  <thead>\n",
       "    <tr style=\"text-align: right;\">\n",
       "      <th></th>\n",
       "      <th>Class</th>\n",
       "      <th>AF365</th>\n",
       "      <th>AF450</th>\n",
       "      <th>35 deg</th>\n",
       "      <th>42 deg</th>\n",
       "    </tr>\n",
       "  </thead>\n",
       "  <tbody>\n",
       "    <tr>\n",
       "      <th>0</th>\n",
       "      <td>Control</td>\n",
       "      <td>2.320158</td>\n",
       "      <td>1.229614</td>\n",
       "      <td>13.01</td>\n",
       "      <td>19.39</td>\n",
       "    </tr>\n",
       "    <tr>\n",
       "      <th>1</th>\n",
       "      <td>Control</td>\n",
       "      <td>1.529274</td>\n",
       "      <td>0.616514</td>\n",
       "      <td>8.18</td>\n",
       "      <td>24.78</td>\n",
       "    </tr>\n",
       "    <tr>\n",
       "      <th>2</th>\n",
       "      <td>Control</td>\n",
       "      <td>1.908257</td>\n",
       "      <td>0.955847</td>\n",
       "      <td>7.75</td>\n",
       "      <td>16.90</td>\n",
       "    </tr>\n",
       "    <tr>\n",
       "      <th>3</th>\n",
       "      <td>Control</td>\n",
       "      <td>1.590625</td>\n",
       "      <td>1.018495</td>\n",
       "      <td>4.10</td>\n",
       "      <td>16.30</td>\n",
       "    </tr>\n",
       "    <tr>\n",
       "      <th>4</th>\n",
       "      <td>Control</td>\n",
       "      <td>1.617071</td>\n",
       "      <td>1.242961</td>\n",
       "      <td>5.76</td>\n",
       "      <td>21.05</td>\n",
       "    </tr>\n",
       "    <tr>\n",
       "      <th>...</th>\n",
       "      <td>...</td>\n",
       "      <td>...</td>\n",
       "      <td>...</td>\n",
       "      <td>...</td>\n",
       "      <td>...</td>\n",
       "    </tr>\n",
       "    <tr>\n",
       "      <th>119</th>\n",
       "      <td>Diabetes_2</td>\n",
       "      <td>4.093525</td>\n",
       "      <td>3.037288</td>\n",
       "      <td>3.97</td>\n",
       "      <td>5.35</td>\n",
       "    </tr>\n",
       "    <tr>\n",
       "      <th>120</th>\n",
       "      <td>Diabetes_2</td>\n",
       "      <td>4.730000</td>\n",
       "      <td>3.040000</td>\n",
       "      <td>7.04</td>\n",
       "      <td>14.44</td>\n",
       "    </tr>\n",
       "    <tr>\n",
       "      <th>121</th>\n",
       "      <td>Diabetes_2</td>\n",
       "      <td>4.010000</td>\n",
       "      <td>4.110000</td>\n",
       "      <td>6.65</td>\n",
       "      <td>17.37</td>\n",
       "    </tr>\n",
       "    <tr>\n",
       "      <th>122</th>\n",
       "      <td>Diabetes_2</td>\n",
       "      <td>3.200000</td>\n",
       "      <td>2.360000</td>\n",
       "      <td>6.70</td>\n",
       "      <td>10.57</td>\n",
       "    </tr>\n",
       "    <tr>\n",
       "      <th>123</th>\n",
       "      <td>Diabetes_2</td>\n",
       "      <td>3.885714</td>\n",
       "      <td>2.403073</td>\n",
       "      <td>6.61</td>\n",
       "      <td>14.30</td>\n",
       "    </tr>\n",
       "  </tbody>\n",
       "</table>\n",
       "<p>124 rows × 5 columns</p>\n",
       "</div>"
      ],
      "text/plain": [
       "          Class     AF365     AF450  35 deg  42 deg\n",
       "0       Control  2.320158  1.229614   13.01   19.39\n",
       "1       Control  1.529274  0.616514    8.18   24.78\n",
       "2       Control  1.908257  0.955847    7.75   16.90\n",
       "3       Control  1.590625  1.018495    4.10   16.30\n",
       "4       Control  1.617071  1.242961    5.76   21.05\n",
       "..          ...       ...       ...     ...     ...\n",
       "119  Diabetes_2  4.093525  3.037288    3.97    5.35\n",
       "120  Diabetes_2  4.730000  3.040000    7.04   14.44\n",
       "121  Diabetes_2  4.010000  4.110000    6.65   17.37\n",
       "122  Diabetes_2  3.200000  2.360000    6.70   10.57\n",
       "123  Diabetes_2  3.885714  2.403073    6.61   14.30\n",
       "\n",
       "[124 rows x 5 columns]"
      ]
     },
     "execution_count": 2,
     "metadata": {},
     "output_type": "execute_result"
    }
   ],
   "source": [
    "dataset= pd.read_excel('datos/Dataset.xlsx')\n",
    "dataset\n"
   ]
  },
  {
   "cell_type": "code",
   "execution_count": 3,
   "id": "af913e0d",
   "metadata": {
    "scrolled": true
   },
   "outputs": [],
   "source": [
    "# División de los datos en train y test\n",
    "# ==============================================================================\n",
    "X = dataset.drop(columns = 'Class')\n",
    "y = dataset['Class']\n",
    "\n",
    "X_train, X_test, y_train, y_test = train_test_split(\n",
    "                                        X,\n",
    "                                        y.values.reshape(-1,1),\n",
    "                                        train_size   = 0.8,\n",
    "                                        random_state = 1234,\n",
    "                                        shuffle      = True\n",
    "                                    )"
   ]
  },
  {
   "cell_type": "code",
   "execution_count": 4,
   "id": "5d5177a2",
   "metadata": {
    "scrolled": true
   },
   "outputs": [
    {
     "data": {
      "text/html": [
       "<div>\n",
       "<style scoped>\n",
       "    .dataframe tbody tr th:only-of-type {\n",
       "        vertical-align: middle;\n",
       "    }\n",
       "\n",
       "    .dataframe tbody tr th {\n",
       "        vertical-align: top;\n",
       "    }\n",
       "\n",
       "    .dataframe thead th {\n",
       "        text-align: right;\n",
       "    }\n",
       "</style>\n",
       "<table border=\"1\" class=\"dataframe\">\n",
       "  <thead>\n",
       "    <tr style=\"text-align: right;\">\n",
       "      <th></th>\n",
       "      <th>AF365</th>\n",
       "      <th>AF450</th>\n",
       "      <th>35 deg</th>\n",
       "      <th>42 deg</th>\n",
       "    </tr>\n",
       "  </thead>\n",
       "  <tbody>\n",
       "    <tr>\n",
       "      <th>55</th>\n",
       "      <td>3.000000</td>\n",
       "      <td>2.250000</td>\n",
       "      <td>4.14</td>\n",
       "      <td>7.43</td>\n",
       "    </tr>\n",
       "    <tr>\n",
       "      <th>9</th>\n",
       "      <td>3.048673</td>\n",
       "      <td>1.214128</td>\n",
       "      <td>4.97</td>\n",
       "      <td>18.47</td>\n",
       "    </tr>\n",
       "    <tr>\n",
       "      <th>109</th>\n",
       "      <td>2.733100</td>\n",
       "      <td>2.121000</td>\n",
       "      <td>7.64</td>\n",
       "      <td>10.06</td>\n",
       "    </tr>\n",
       "    <tr>\n",
       "      <th>35</th>\n",
       "      <td>2.956522</td>\n",
       "      <td>1.420676</td>\n",
       "      <td>9.10</td>\n",
       "      <td>19.75</td>\n",
       "    </tr>\n",
       "    <tr>\n",
       "      <th>61</th>\n",
       "      <td>2.830000</td>\n",
       "      <td>1.940000</td>\n",
       "      <td>2.10</td>\n",
       "      <td>7.80</td>\n",
       "    </tr>\n",
       "    <tr>\n",
       "      <th>...</th>\n",
       "      <td>...</td>\n",
       "      <td>...</td>\n",
       "      <td>...</td>\n",
       "      <td>...</td>\n",
       "    </tr>\n",
       "    <tr>\n",
       "      <th>76</th>\n",
       "      <td>3.000000</td>\n",
       "      <td>3.005682</td>\n",
       "      <td>11.52</td>\n",
       "      <td>14.17</td>\n",
       "    </tr>\n",
       "    <tr>\n",
       "      <th>53</th>\n",
       "      <td>2.840000</td>\n",
       "      <td>1.640000</td>\n",
       "      <td>3.62</td>\n",
       "      <td>7.80</td>\n",
       "    </tr>\n",
       "    <tr>\n",
       "      <th>38</th>\n",
       "      <td>2.607306</td>\n",
       "      <td>1.342122</td>\n",
       "      <td>11.96</td>\n",
       "      <td>16.74</td>\n",
       "    </tr>\n",
       "    <tr>\n",
       "      <th>83</th>\n",
       "      <td>3.275862</td>\n",
       "      <td>1.482014</td>\n",
       "      <td>8.09</td>\n",
       "      <td>16.15</td>\n",
       "    </tr>\n",
       "    <tr>\n",
       "      <th>47</th>\n",
       "      <td>2.148500</td>\n",
       "      <td>1.125300</td>\n",
       "      <td>10.21</td>\n",
       "      <td>20.22</td>\n",
       "    </tr>\n",
       "  </tbody>\n",
       "</table>\n",
       "<p>99 rows × 4 columns</p>\n",
       "</div>"
      ],
      "text/plain": [
       "        AF365     AF450  35 deg  42 deg\n",
       "55   3.000000  2.250000    4.14    7.43\n",
       "9    3.048673  1.214128    4.97   18.47\n",
       "109  2.733100  2.121000    7.64   10.06\n",
       "35   2.956522  1.420676    9.10   19.75\n",
       "61   2.830000  1.940000    2.10    7.80\n",
       "..        ...       ...     ...     ...\n",
       "76   3.000000  3.005682   11.52   14.17\n",
       "53   2.840000  1.640000    3.62    7.80\n",
       "38   2.607306  1.342122   11.96   16.74\n",
       "83   3.275862  1.482014    8.09   16.15\n",
       "47   2.148500  1.125300   10.21   20.22\n",
       "\n",
       "[99 rows x 4 columns]"
      ]
     },
     "execution_count": 4,
     "metadata": {},
     "output_type": "execute_result"
    }
   ],
   "source": [
    "X_train\n"
   ]
  },
  {
   "cell_type": "code",
   "execution_count": 5,
   "id": "c0993482",
   "metadata": {
    "scrolled": true
   },
   "outputs": [
    {
     "data": {
      "text/html": [
       "<div>\n",
       "<style scoped>\n",
       "    .dataframe tbody tr th:only-of-type {\n",
       "        vertical-align: middle;\n",
       "    }\n",
       "\n",
       "    .dataframe tbody tr th {\n",
       "        vertical-align: top;\n",
       "    }\n",
       "\n",
       "    .dataframe thead th {\n",
       "        text-align: right;\n",
       "    }\n",
       "</style>\n",
       "<table border=\"1\" class=\"dataframe\">\n",
       "  <thead>\n",
       "    <tr style=\"text-align: right;\">\n",
       "      <th></th>\n",
       "      <th>AF365</th>\n",
       "      <th>AF450</th>\n",
       "      <th>35 deg</th>\n",
       "      <th>42 deg</th>\n",
       "    </tr>\n",
       "  </thead>\n",
       "  <tbody>\n",
       "    <tr>\n",
       "      <th>48</th>\n",
       "      <td>2.960000</td>\n",
       "      <td>1.530000</td>\n",
       "      <td>5.81</td>\n",
       "      <td>14.05</td>\n",
       "    </tr>\n",
       "    <tr>\n",
       "      <th>99</th>\n",
       "      <td>2.928571</td>\n",
       "      <td>1.525060</td>\n",
       "      <td>4.07</td>\n",
       "      <td>10.40</td>\n",
       "    </tr>\n",
       "    <tr>\n",
       "      <th>66</th>\n",
       "      <td>3.344633</td>\n",
       "      <td>2.059783</td>\n",
       "      <td>3.00</td>\n",
       "      <td>9.44</td>\n",
       "    </tr>\n",
       "    <tr>\n",
       "      <th>89</th>\n",
       "      <td>2.507812</td>\n",
       "      <td>2.328594</td>\n",
       "      <td>7.48</td>\n",
       "      <td>12.20</td>\n",
       "    </tr>\n",
       "    <tr>\n",
       "      <th>84</th>\n",
       "      <td>1.974729</td>\n",
       "      <td>1.350733</td>\n",
       "      <td>2.21</td>\n",
       "      <td>10.50</td>\n",
       "    </tr>\n",
       "    <tr>\n",
       "      <th>88</th>\n",
       "      <td>3.318681</td>\n",
       "      <td>2.793872</td>\n",
       "      <td>10.93</td>\n",
       "      <td>16.78</td>\n",
       "    </tr>\n",
       "    <tr>\n",
       "      <th>27</th>\n",
       "      <td>0.668348</td>\n",
       "      <td>0.320149</td>\n",
       "      <td>3.94</td>\n",
       "      <td>19.29</td>\n",
       "    </tr>\n",
       "    <tr>\n",
       "      <th>68</th>\n",
       "      <td>4.076923</td>\n",
       "      <td>1.730280</td>\n",
       "      <td>5.39</td>\n",
       "      <td>11.88</td>\n",
       "    </tr>\n",
       "    <tr>\n",
       "      <th>72</th>\n",
       "      <td>2.321429</td>\n",
       "      <td>1.828996</td>\n",
       "      <td>6.92</td>\n",
       "      <td>9.64</td>\n",
       "    </tr>\n",
       "    <tr>\n",
       "      <th>51</th>\n",
       "      <td>2.590000</td>\n",
       "      <td>1.760000</td>\n",
       "      <td>5.69</td>\n",
       "      <td>8.07</td>\n",
       "    </tr>\n",
       "    <tr>\n",
       "      <th>22</th>\n",
       "      <td>3.096774</td>\n",
       "      <td>1.811336</td>\n",
       "      <td>3.32</td>\n",
       "      <td>12.04</td>\n",
       "    </tr>\n",
       "    <tr>\n",
       "      <th>8</th>\n",
       "      <td>2.104430</td>\n",
       "      <td>0.981349</td>\n",
       "      <td>10.26</td>\n",
       "      <td>22.35</td>\n",
       "    </tr>\n",
       "    <tr>\n",
       "      <th>6</th>\n",
       "      <td>1.397015</td>\n",
       "      <td>0.660534</td>\n",
       "      <td>9.63</td>\n",
       "      <td>27.28</td>\n",
       "    </tr>\n",
       "    <tr>\n",
       "      <th>32</th>\n",
       "      <td>2.050505</td>\n",
       "      <td>1.184069</td>\n",
       "      <td>9.17</td>\n",
       "      <td>20.94</td>\n",
       "    </tr>\n",
       "    <tr>\n",
       "      <th>102</th>\n",
       "      <td>2.640884</td>\n",
       "      <td>2.136691</td>\n",
       "      <td>5.16</td>\n",
       "      <td>7.52</td>\n",
       "    </tr>\n",
       "    <tr>\n",
       "      <th>94</th>\n",
       "      <td>1.584821</td>\n",
       "      <td>1.825613</td>\n",
       "      <td>6.91</td>\n",
       "      <td>11.25</td>\n",
       "    </tr>\n",
       "    <tr>\n",
       "      <th>106</th>\n",
       "      <td>2.963636</td>\n",
       "      <td>1.950604</td>\n",
       "      <td>6.25</td>\n",
       "      <td>9.75</td>\n",
       "    </tr>\n",
       "    <tr>\n",
       "      <th>29</th>\n",
       "      <td>2.560000</td>\n",
       "      <td>1.618761</td>\n",
       "      <td>10.93</td>\n",
       "      <td>20.27</td>\n",
       "    </tr>\n",
       "    <tr>\n",
       "      <th>78</th>\n",
       "      <td>2.863309</td>\n",
       "      <td>1.584694</td>\n",
       "      <td>5.73</td>\n",
       "      <td>10.22</td>\n",
       "    </tr>\n",
       "    <tr>\n",
       "      <th>117</th>\n",
       "      <td>4.743590</td>\n",
       "      <td>3.377668</td>\n",
       "      <td>3.43</td>\n",
       "      <td>3.94</td>\n",
       "    </tr>\n",
       "    <tr>\n",
       "      <th>77</th>\n",
       "      <td>2.686170</td>\n",
       "      <td>1.335652</td>\n",
       "      <td>7.43</td>\n",
       "      <td>16.61</td>\n",
       "    </tr>\n",
       "    <tr>\n",
       "      <th>57</th>\n",
       "      <td>2.350000</td>\n",
       "      <td>1.750000</td>\n",
       "      <td>6.77</td>\n",
       "      <td>10.65</td>\n",
       "    </tr>\n",
       "    <tr>\n",
       "      <th>42</th>\n",
       "      <td>1.729483</td>\n",
       "      <td>1.107991</td>\n",
       "      <td>6.70</td>\n",
       "      <td>19.42</td>\n",
       "    </tr>\n",
       "    <tr>\n",
       "      <th>1</th>\n",
       "      <td>1.529274</td>\n",
       "      <td>0.616514</td>\n",
       "      <td>8.18</td>\n",
       "      <td>24.78</td>\n",
       "    </tr>\n",
       "    <tr>\n",
       "      <th>85</th>\n",
       "      <td>2.740964</td>\n",
       "      <td>1.831435</td>\n",
       "      <td>6.10</td>\n",
       "      <td>10.71</td>\n",
       "    </tr>\n",
       "  </tbody>\n",
       "</table>\n",
       "</div>"
      ],
      "text/plain": [
       "        AF365     AF450  35 deg  42 deg\n",
       "48   2.960000  1.530000    5.81   14.05\n",
       "99   2.928571  1.525060    4.07   10.40\n",
       "66   3.344633  2.059783    3.00    9.44\n",
       "89   2.507812  2.328594    7.48   12.20\n",
       "84   1.974729  1.350733    2.21   10.50\n",
       "88   3.318681  2.793872   10.93   16.78\n",
       "27   0.668348  0.320149    3.94   19.29\n",
       "68   4.076923  1.730280    5.39   11.88\n",
       "72   2.321429  1.828996    6.92    9.64\n",
       "51   2.590000  1.760000    5.69    8.07\n",
       "22   3.096774  1.811336    3.32   12.04\n",
       "8    2.104430  0.981349   10.26   22.35\n",
       "6    1.397015  0.660534    9.63   27.28\n",
       "32   2.050505  1.184069    9.17   20.94\n",
       "102  2.640884  2.136691    5.16    7.52\n",
       "94   1.584821  1.825613    6.91   11.25\n",
       "106  2.963636  1.950604    6.25    9.75\n",
       "29   2.560000  1.618761   10.93   20.27\n",
       "78   2.863309  1.584694    5.73   10.22\n",
       "117  4.743590  3.377668    3.43    3.94\n",
       "77   2.686170  1.335652    7.43   16.61\n",
       "57   2.350000  1.750000    6.77   10.65\n",
       "42   1.729483  1.107991    6.70   19.42\n",
       "1    1.529274  0.616514    8.18   24.78\n",
       "85   2.740964  1.831435    6.10   10.71"
      ]
     },
     "execution_count": 5,
     "metadata": {},
     "output_type": "execute_result"
    }
   ],
   "source": [
    "X_test"
   ]
  },
  {
   "cell_type": "markdown",
   "id": "8de5717e",
   "metadata": {},
   "source": [
    "**MODELO DE REGRESION LOGíSTICA**"
   ]
  },
  {
   "cell_type": "markdown",
   "id": "662bdc19",
   "metadata": {},
   "source": [
    "*Creamos y Entrenamos el modelo de regrsión logística con los datos de entrenamiento*"
   ]
  },
  {
   "cell_type": "code",
   "execution_count": 14,
   "id": "27a07086",
   "metadata": {
    "scrolled": true
   },
   "outputs": [
    {
     "name": "stdout",
     "output_type": "stream",
     "text": [
      "Wall time: 1.26 s\n"
     ]
    },
    {
     "data": {
      "text/plain": [
       "GridSearchCV(estimator=LogisticRegression(),\n",
       "             param_grid={'class_weight': ['balanced'],\n",
       "                         'multi_class': ['auto', 'ovr', 'multinominal'],\n",
       "                         'penalty': ['l1', 'l2', 'elaticnet', 'none'],\n",
       "                         'solver': ['newton-cg', 'lbfgs', 'liblinear', 'sag',\n",
       "                                    'saga']})"
      ]
     },
     "execution_count": 14,
     "metadata": {},
     "output_type": "execute_result"
    }
   ],
   "source": [
    "%%time\n",
    "#Creamos el modelo de regresión logística llamado reg_log\n",
    "parameters_reg_log={\n",
    "    'penalty':['l1', 'l2','elaticnet','none'],\n",
    "    'class_weight':['balanced'],\n",
    "    'solver':['newton-cg', 'lbfgs', 'liblinear', 'sag', 'saga'],\n",
    "    'multi_class':['auto','ovr','multinominal']\n",
    "}\n",
    "reg_log = LogisticRegression()\n",
    "#Entrenamos el modelo usando los parametros\n",
    "reg_log_cv=GridSearchCV(reg_log,parameters_reg_log)\n",
    "#Analizar si podar el árbol o no. \n",
    "reg_log_cv.fit(X_train, y_train)"
   ]
  },
  {
   "cell_type": "code",
   "execution_count": 15,
   "id": "f183f5aa",
   "metadata": {
    "scrolled": true
   },
   "outputs": [
    {
     "name": "stdout",
     "output_type": "stream",
     "text": [
      "best score: 0.7789473684210526\n",
      "best params: {'class_weight': 'balanced', 'multi_class': 'auto', 'penalty': 'l2', 'solver': 'newton-cg'}\n",
      "Wall time: 0 ns\n"
     ]
    }
   ],
   "source": [
    "%%time\n",
    "# Información del modelo\n",
    "# ==============================================================================\n",
    "print(\"best score:\", reg_log_cv.best_score_)\n",
    "print(\"best params:\", reg_log_cv.best_params_)\n"
   ]
  },
  {
   "cell_type": "code",
   "execution_count": 16,
   "id": "b29f3263",
   "metadata": {
    "scrolled": true
   },
   "outputs": [
    {
     "name": "stdout",
     "output_type": "stream",
     "text": [
      "Wall time: 2 ms\n"
     ]
    },
    {
     "data": {
      "text/html": [
       "<div>\n",
       "<style scoped>\n",
       "    .dataframe tbody tr th:only-of-type {\n",
       "        vertical-align: middle;\n",
       "    }\n",
       "\n",
       "    .dataframe tbody tr th {\n",
       "        vertical-align: top;\n",
       "    }\n",
       "\n",
       "    .dataframe thead th {\n",
       "        text-align: right;\n",
       "    }\n",
       "</style>\n",
       "<table border=\"1\" class=\"dataframe\">\n",
       "  <thead>\n",
       "    <tr style=\"text-align: right;\">\n",
       "      <th></th>\n",
       "      <th>Control</th>\n",
       "      <th>Diabetes_1</th>\n",
       "      <th>Diabetes_2</th>\n",
       "    </tr>\n",
       "  </thead>\n",
       "  <tbody>\n",
       "    <tr>\n",
       "      <th>0</th>\n",
       "      <td>0.284565</td>\n",
       "      <td>0.622357</td>\n",
       "      <td>0.093078</td>\n",
       "    </tr>\n",
       "    <tr>\n",
       "      <th>1</th>\n",
       "      <td>0.050939</td>\n",
       "      <td>0.633346</td>\n",
       "      <td>0.315716</td>\n",
       "    </tr>\n",
       "    <tr>\n",
       "      <th>2</th>\n",
       "      <td>0.005603</td>\n",
       "      <td>0.199785</td>\n",
       "      <td>0.794612</td>\n",
       "    </tr>\n",
       "    <tr>\n",
       "      <th>3</th>\n",
       "      <td>0.061119</td>\n",
       "      <td>0.852298</td>\n",
       "      <td>0.086582</td>\n",
       "    </tr>\n",
       "    <tr>\n",
       "      <th>4</th>\n",
       "      <td>0.090646</td>\n",
       "      <td>0.853650</td>\n",
       "      <td>0.055704</td>\n",
       "    </tr>\n",
       "  </tbody>\n",
       "</table>\n",
       "</div>"
      ],
      "text/plain": [
       "    Control  Diabetes_1  Diabetes_2\n",
       "0  0.284565    0.622357    0.093078\n",
       "1  0.050939    0.633346    0.315716\n",
       "2  0.005603    0.199785    0.794612\n",
       "3  0.061119    0.852298    0.086582\n",
       "4  0.090646    0.853650    0.055704"
      ]
     },
     "execution_count": 16,
     "metadata": {},
     "output_type": "execute_result"
    }
   ],
   "source": [
    "%%time\n",
    "# Predicciones probabilísticas\n",
    "# ==============================================================================\n",
    "# Con .predict_proba() se obtiene, para cada observación, \n",
    "#la probabilidad predicha\n",
    "# de pertenecer a cada una de las dos clases.\n",
    "predicciones_prob= reg_log_cv.predict_proba(X_test)\n",
    "predicciones_prob= pd.DataFrame(predicciones_prob, \n",
    "                                columns = reg_log_cv.classes_)\n",
    "predicciones_prob.head()"
   ]
  },
  {
   "cell_type": "code",
   "execution_count": 17,
   "id": "1659b00b",
   "metadata": {
    "scrolled": true
   },
   "outputs": [
    {
     "name": "stdout",
     "output_type": "stream",
     "text": [
      "Wall time: 2 ms\n"
     ]
    },
    {
     "data": {
      "text/plain": [
       "array(['Diabetes_1', 'Diabetes_1', 'Diabetes_2', 'Diabetes_1',\n",
       "       'Diabetes_1', 'Diabetes_1', 'Control', 'Diabetes_2', 'Diabetes_1',\n",
       "       'Diabetes_1', 'Diabetes_1', 'Control', 'Control', 'Control',\n",
       "       'Diabetes_1', 'Diabetes_1', 'Diabetes_1', 'Control', 'Diabetes_1',\n",
       "       'Diabetes_2', 'Control', 'Diabetes_1', 'Control', 'Control',\n",
       "       'Diabetes_1'], dtype=object)"
      ]
     },
     "execution_count": 17,
     "metadata": {},
     "output_type": "execute_result"
    }
   ],
   "source": [
    "%%time\n",
    "#Predicciones categóricas del modelo de regresion logística\n",
    "predicciones= reg_log_cv.predict(X_test)\n",
    "predicciones"
   ]
  },
  {
   "cell_type": "code",
   "execution_count": 18,
   "id": "1892bf4e",
   "metadata": {
    "scrolled": true
   },
   "outputs": [
    {
     "name": "stdout",
     "output_type": "stream",
     "text": [
      "Wall time: 0 ns\n"
     ]
    },
    {
     "data": {
      "text/plain": [
       "0.84"
      ]
     },
     "execution_count": 18,
     "metadata": {},
     "output_type": "execute_result"
    }
   ],
   "source": [
    "%%time\n",
    "#Precisión del modelo de regresión logística\n",
    "reg_log_accuracy=accuracy_score(y_test,predicciones)\n",
    "reg_log_accuracy"
   ]
  },
  {
   "cell_type": "markdown",
   "id": "0e31299c",
   "metadata": {},
   "source": [
    "**Arbol de decisión para clasificación**"
   ]
  },
  {
   "cell_type": "markdown",
   "id": "c5d86f58",
   "metadata": {},
   "source": [
    "Se crea una función para mostrar la matriz de confusión, de esta manera podemos\n",
    "obtener una representación gráfica de la calidad del modelo.|"
   ]
  },
  {
   "cell_type": "code",
   "execution_count": 11,
   "id": "66f80e8c",
   "metadata": {
    "scrolled": true
   },
   "outputs": [
    {
     "name": "stdout",
     "output_type": "stream",
     "text": [
      "Wall time: 0 ns\n"
     ]
    }
   ],
   "source": [
    "%%time\n",
    "import itertools\n",
    "from sklearn.metrics import confusion_matrix\n",
    "\n",
    "def plot_confusion_matrix(conf_matrix, target_names=[\"Grupo 1\", \"Grupo 2\",\"Grupo 3\",], \n",
    "                          cmap=None, normalize=False):\n",
    "\n",
    "    accuracy = np.trace(conf_matrix) / float(np.sum(conf_matrix))\n",
    "    misclass = 1 - accuracy\n",
    "\n",
    "    if cmap is None:\n",
    "        cmap = plt.get_cmap('Blues')\n",
    "\n",
    "    plt.figure(figsize=(8, 6))\n",
    "    plt.imshow(conf_matrix, interpolation='nearest', cmap=cmap)\n",
    "    plt.colorbar()\n",
    "\n",
    "    if target_names is not None:\n",
    "        tick_marks = np.arange(len(target_names))\n",
    "        plt.xticks(tick_marks, target_names, rotation=45)\n",
    "        plt.yticks(tick_marks, target_names)\n",
    "\n",
    "    if normalize:\n",
    "        conf_matrix = conf_matrix.astype('float') / conf_matrix.sum(axis=1)[:, np.newaxis]\n",
    "\n",
    "    thresh = conf_matrix.max() / 1.5 if normalize else conf_matrix.max() / 2\n",
    "    for i, j in itertools.product(range(conf_matrix.shape[0]), range(conf_matrix.shape[1])):\n",
    "        if normalize:\n",
    "            plt.text(j, i, \"{:0.4f}\".format(conf_matrix[i, j]),\n",
    "                     horizontalalignment=\"center\",\n",
    "                     color=\"white\" if conf_matrix[i, j] > thresh else \"black\")\n",
    "        else:\n",
    "            plt.text(j, i, \"{:,}\".format(conf_matrix[i, j]),\n",
    "                     horizontalalignment=\"center\",\n",
    "                     color=\"white\" if conf_matrix[i, j] > thresh else \"black\")\n",
    "\n",
    "    plt.tight_layout()\n",
    "    plt.ylabel('True label')\n",
    "    plt.xlabel('Predicted label\\naccuracy={:0.4f}; misclass={:0.4f}'.format(accuracy, misclass))\n",
    "    plt.show()"
   ]
  },
  {
   "cell_type": "markdown",
   "id": "3bf4a8bd",
   "metadata": {},
   "source": [
    "creamos el arbol de decisión usando hyperparameter tunning para explorar las opciones posibles de configuración"
   ]
  },
  {
   "cell_type": "code",
   "execution_count": 12,
   "id": "595ebefe",
   "metadata": {
    "scrolled": true
   },
   "outputs": [
    {
     "name": "stdout",
     "output_type": "stream",
     "text": [
      "{'criterion': 'gini', 'max_depth': None, 'max_features': 'auto', 'min_samples_leaf': 8}\n",
      "0.8084210526315789\n"
     ]
    },
    {
     "data": {
      "image/png": "[encoded data removed]",
      "text/plain": [
       "<Figure size 720x864 with 1 Axes>"
      ]
     },
     "metadata": {},
     "output_type": "display_data"
    },
    {
     "data": {
      "image/png": "[encoded data removed]",
      "text/plain": [
       "<Figure size 576x432 with 2 Axes>"
      ]
     },
     "metadata": {},
     "output_type": "display_data"
    },
    {
     "name": "stdout",
     "output_type": "stream",
     "text": [
      "Wall time: 4.03 s\n"
     ]
    }
   ],
   "source": [
    "%%time\n",
    "#Crear el árbol\n",
    "decision_tree = tree.DecisionTreeClassifier()\n",
    "\n",
    "#Hyperparametertunning\n",
    "parameters = {'criterion': ['gini', 'entropy'],\n",
    "              'max_depth': [2,4,8,16,32,64,128,256,None],\n",
    "              'max_features': ['auto', 'sqrt', 'log2'],\n",
    "              'min_samples_leaf': [1,2,4,8,16]}\n",
    "\n",
    "clf = GridSearchCV(decision_tree, parameters, n_jobs=-1, cv=5)\n",
    "\n",
    "#Analizar si podar el árbol o no. \n",
    "clf.fit(X_train, y_train)\n",
    "\n",
    "#Graficar el árbol\n",
    "plt.figure(figsize=(10,12))\n",
    "tree.plot_tree(clf.best_estimator_)\n",
    "\n",
    "print(clf.best_params_)\n",
    "print(clf.best_score_)\n",
    "\n",
    "#Predecir los valores de test \n",
    "Y_pred = clf.predict(X_test)\n",
    "\n",
    "#Crear matriz de confusión y hallar exactitud\n",
    "conf_matrix_test = confusion_matrix(y_test, Y_pred)\n",
    "plot_confusion_matrix(conf_matrix_test)"
   ]
  },
  {
   "cell_type": "markdown",
   "id": "18092022",
   "metadata": {},
   "source": [
    "Se crea el random forest para el problema de clasificacion, se utiliza un Hyperparameter Tunning para determinar los parametros mas óptimos para nuestros datos y se realizan las predicciones con el cálculo de las metricas de evaluación."
   ]
  },
  {
   "cell_type": "code",
   "execution_count": 13,
   "id": "b7bc3248",
   "metadata": {
    "scrolled": true
   },
   "outputs": [
    {
     "name": "stdout",
     "output_type": "stream",
     "text": [
      "{'criterion': 'entropy', 'max_depth': 128, 'max_features': 'auto', 'n_estimators': 10}\n",
      "0.8489473684210525\n"
     ]
    },
    {
     "data": {
      "image/png": "[encoded data removed]",
      "text/plain": [
       "<Figure size 576x432 with 2 Axes>"
      ]
     },
     "metadata": {},
     "output_type": "display_data"
    },
    {
     "name": "stdout",
     "output_type": "stream",
     "text": [
      "Wall time: 10.3 s\n"
     ]
    }
   ],
   "source": [
    "%%time\n",
    "#Random Forest para el problema de clasificación\n",
    "randomforest = RandomForestClassifier()\n",
    "\n",
    "#Hyperparametertunning\n",
    "parameters = {'n_estimators':[10,50,100],\n",
    "              'criterion': ['gini', 'entropy'],\n",
    "              'max_depth': [2,4,8,16,32,64,128,256,None],\n",
    "              'max_features': ['auto', 'sqrt', 'log2']}\n",
    "clf = GridSearchCV(randomforest, parameters, n_jobs=-1, cv=5)\n",
    "\n",
    "clf.fit(X_train, y_train)\n",
    "\n",
    "#Predecir los valores de test \n",
    "print(clf.best_params_)\n",
    "print(clf.best_score_)\n",
    "Y_pred = clf.predict(X_test)\n",
    "\n",
    "#Crear matriz de confusión y hallar exactitud\n",
    "conf_matrix_test = confusion_matrix(y_test, Y_pred)\n",
    "plot_confusion_matrix(conf_matrix_test)"
   ]
  },
  {
   "cell_type": "markdown",
   "id": "ec5a5b71",
   "metadata": {},
   "source": [
    "**Support Vector Machines**\n"
   ]
  },
  {
   "cell_type": "code",
   "execution_count": 14,
   "id": "9743ca58",
   "metadata": {
    "scrolled": true
   },
   "outputs": [
    {
     "name": "stdout",
     "output_type": "stream",
     "text": [
      "Train accurancy:  0.7474747474747475\n",
      "Test accurancy:  0.88\n",
      "Wall time: 11 ms\n"
     ]
    }
   ],
   "source": [
    "%%time\n",
    "#Creamos el modelo de SVM y lo entrenamos con los valores de train\n",
    "svc = SVC()\n",
    "svc.fit(X_train, y_train)\n",
    "print(\"Train accurancy: \", svc.score(X_train, y_train))\n",
    "print(\"Test accurancy: \", svc.score(X_test, y_test))"
   ]
  },
  {
   "cell_type": "markdown",
   "id": "49b8e0f1",
   "metadata": {},
   "source": [
    "Optimizamos el modelo previamente creado y mostramos el mejor modelo."
   ]
  },
  {
   "cell_type": "code",
   "execution_count": 15,
   "id": "7468f5fc",
   "metadata": {
    "scrolled": true
   },
   "outputs": [
    {
     "name": "stdout",
     "output_type": "stream",
     "text": [
      "Fitting 5 folds for each of 60 candidates, totalling 300 fits\n",
      "[CV 2/5] END .................C=1, gamma=auto, kernel=linear; total time=   0.0s\n",
      "[CV 1/5] END .................C=1, gamma=auto, kernel=linear; total time=   0.0s\n",
      "[CV 1/5] END ....................C=1, gamma=auto, kernel=rbf; total time=   0.0s\n",
      "[CV 4/5] END .................C=1, gamma=auto, kernel=linear; total time=   0.0s\n",
      "[CV 2/5] END ....................C=1, gamma=auto, kernel=rbf; total time=   0.0s\n",
      "[CV 3/5] END .................C=1, gamma=auto, kernel=linear; total time=   0.0s\n",
      "[CV 5/5] END .................C=1, gamma=auto, kernel=linear; total time=   0.0s\n",
      "[CV 5/5] END ....................C=1, gamma=auto, kernel=rbf; total time=   0.0s\n",
      "[CV 3/5] END .................C=1, gamma=0.01, kernel=linear; total time=   0.0s\n",
      "[CV 1/5] END .................C=1, gamma=0.01, kernel=linear; total time=   0.0s\n",
      "[CV 3/5] END ....................C=1, gamma=auto, kernel=rbf; total time=   0.0s\n",
      "[CV 2/5] END .................C=1, gamma=0.01, kernel=linear; total time=   0.0s\n",
      "[CV 4/5] END ....................C=1, gamma=auto, kernel=rbf; total time=   0.0s[CV 1/5] END ....................C=1, gamma=0.01, kernel=rbf; total time=   0.0s\n",
      "\n",
      "[CV 4/5] END ....................C=1, gamma=0.01, kernel=rbf; total time=   0.0s\n",
      "[CV 5/5] END .................C=1, gamma=0.01, kernel=linear; total time=   0.0s\n",
      "[CV 4/5] END .................C=1, gamma=0.01, kernel=linear; total time=   0.0s\n",
      "[CV 5/5] END ....................C=1, gamma=0.01, kernel=rbf; total time=   0.0s\n",
      "[CV 3/5] END ....................C=1, gamma=0.01, kernel=rbf; total time=   0.0s\n",
      "[CV 5/5] END ................C=1, gamma=0.001, kernel=linear; total time=   0.0s[CV 2/5] END ....................C=1, gamma=0.01, kernel=rbf; total time=   0.0s\n",
      "[CV 1/5] END ...................C=1, gamma=0.001, kernel=rbf; total time=   0.0s\n",
      "\n",
      "[CV 4/5] END ................C=1, gamma=0.001, kernel=linear; total time=   0.0s\n",
      "[CV 2/5] END ................C=1, gamma=0.001, kernel=linear; total time=   0.0s[CV 2/5] END ...................C=1, gamma=0.001, kernel=rbf; total time=   0.0s\n",
      "[CV 4/5] END ...................C=1, gamma=0.001, kernel=rbf; total time=   0.0s[CV 1/5] END ...............C=1, gamma=0.0001, kernel=linear; total time=   0.0s[CV 3/5] END ................C=1, gamma=0.001, kernel=linear; total time=   0.0s\n",
      "\n",
      "\n",
      "[CV 3/5] END ...................C=1, gamma=0.001, kernel=rbf; total time=   0.0s\n",
      "\n",
      "[CV 4/5] END ...............C=1, gamma=0.0001, kernel=linear; total time=   0.0s[CV 5/5] END ...............C=1, gamma=0.0001, kernel=linear; total time=   0.0s[CV 1/5] END ..................C=1, gamma=0.0001, kernel=rbf; total time=   0.0s\n",
      "[CV 3/5] END ...............C=1, gamma=0.0001, kernel=linear; total time=   0.0s[CV 1/5] END ................C=1, gamma=0.001, kernel=linear; total time=   0.0s\n",
      "[CV 2/5] END ..................C=1, gamma=0.0001, kernel=rbf; total time=   0.0s\n",
      "\n",
      "\n",
      "\n",
      "[CV 5/5] END ...................C=1, gamma=0.001, kernel=rbf; total time=   0.0s\n",
      "[CV 2/5] END ...............C=1, gamma=0.0001, kernel=linear; total time=   0.0s[CV 4/5] END ..................C=1, gamma=0.0001, kernel=rbf; total time=   0.0s\n",
      "\n",
      "[CV 1/5] END ....................C=1, gamma=1, kernel=linear; total time=   0.0s\n",
      "[CV 4/5] END ....................C=1, gamma=1, kernel=linear; total time=   0.0s\n",
      "[CV 3/5] END ..................C=1, gamma=0.0001, kernel=rbf; total time=   0.0s\n",
      "[CV 5/5] END ..................C=1, gamma=0.0001, kernel=rbf; total time=   0.0s[CV 2/5] END ....................C=1, gamma=1, kernel=linear; total time=   0.0s\n",
      "[CV 3/5] END ....................C=1, gamma=1, kernel=linear; total time=   0.0s\n",
      "[CV 5/5] END .......................C=1, gamma=1, kernel=rbf; total time=   0.0s\n",
      "[CV 1/5] END .......................C=1, gamma=1, kernel=rbf; total time=   0.0s\n",
      "\n",
      "[CV 5/5] END ....................C=1, gamma=1, kernel=linear; total time=   0.0s\n",
      "[CV 1/5] END ...............C=0.1, gamma=auto, kernel=linear; total time=   0.0s\n",
      "[CV 4/5] END .......................C=1, gamma=1, kernel=rbf; total time=   0.0s\n",
      "[CV 2/5] END ...............C=0.1, gamma=auto, kernel=linear; total time=   0.0s\n",
      "[CV 3/5] END ...............C=0.1, gamma=auto, kernel=linear; total time=   0.0s\n",
      "[CV 4/5] END ...............C=0.1, gamma=auto, kernel=linear; total time=   0.0s\n",
      "[CV 3/5] END .......................C=1, gamma=1, kernel=rbf; total time=   0.0s\n",
      "[CV 3/5] END ..................C=0.1, gamma=auto, kernel=rbf; total time=   0.0s\n",
      "[CV 1/5] END ...............C=0.1, gamma=0.01, kernel=linear; total time=   0.0s\n",
      "[CV 5/5] END ...............C=0.1, gamma=auto, kernel=linear; total time=   0.0s\n",
      "[CV 2/5] END ..................C=0.1, gamma=auto, kernel=rbf; total time=   0.0s\n",
      "[CV 1/5] END ..................C=0.1, gamma=auto, kernel=rbf; total time=   0.0s[CV 2/5] END .......................C=1, gamma=1, kernel=rbf; total time=   0.0s\n",
      "\n",
      "[CV 4/5] END ..................C=0.1, gamma=auto, kernel=rbf; total time=   0.0s\n",
      "[CV 2/5] END ...............C=0.1, gamma=0.01, kernel=linear; total time=   0.0s\n",
      "[CV 5/5] END ..................C=0.1, gamma=auto, kernel=rbf; total time=   0.0s\n",
      "[CV 4/5] END ...............C=0.1, gamma=0.01, kernel=linear; total time=   0.0s\n",
      "[CV 3/5] END ...............C=0.1, gamma=0.01, kernel=linear; total time=   0.0s\n",
      "[CV 1/5] END ..................C=0.1, gamma=0.01, kernel=rbf; total time=   0.0s\n",
      "[CV 2/5] END ..................C=0.1, gamma=0.01, kernel=rbf; total time=   0.0s\n",
      "[CV 4/5] END ..................C=0.1, gamma=0.01, kernel=rbf; total time=   0.0s\n",
      "[CV 5/5] END ...............C=0.1, gamma=0.01, kernel=linear; total time=   0.0s\n",
      "[CV 3/5] END ..................C=0.1, gamma=0.01, kernel=rbf; total time=   0.0s[CV 5/5] END ..............C=0.1, gamma=0.001, kernel=linear; total time=   0.0s\n",
      "[CV 4/5] END ..............C=0.1, gamma=0.001, kernel=linear; total time=   0.0s\n",
      "[CV 2/5] END ..............C=0.1, gamma=0.001, kernel=linear; total time=   0.0s\n",
      "[CV 5/5] END ..................C=0.1, gamma=0.01, kernel=rbf; total time=   0.0s\n",
      "[CV 3/5] END ..............C=0.1, gamma=0.001, kernel=linear; total time=   0.0s\n",
      "[CV 1/5] END ..............C=0.1, gamma=0.001, kernel=linear; total time=   0.0s\n",
      "[CV 5/5] END .................C=0.1, gamma=0.001, kernel=rbf; total time=   0.0s\n",
      "[CV 1/5] END .................C=0.1, gamma=0.001, kernel=rbf; total time=   0.0s\n",
      "[CV 2/5] END .................C=0.1, gamma=0.001, kernel=rbf; total time=   0.0s\n",
      "[CV 4/5] END .................C=0.1, gamma=0.001, kernel=rbf; total time=   0.0s\n",
      "\n",
      "[CV 1/5] END .............C=0.1, gamma=0.0001, kernel=linear; total time=   0.0s\n",
      "[CV 3/5] END .................C=0.1, gamma=0.001, kernel=rbf; total time=   0.0s[CV 3/5] END .............C=0.1, gamma=0.0001, kernel=linear; total time=   0.0s[CV 4/5] END .............C=0.1, gamma=0.0001, kernel=linear; total time=   0.0s[CV 5/5] END .............C=0.1, gamma=0.0001, kernel=linear; total time=   0.0s\n",
      "\n",
      "\n",
      "[CV 2/5] END .............C=0.1, gamma=0.0001, kernel=linear; total time=   0.0s\n",
      "[CV 1/5] END ................C=0.1, gamma=0.0001, kernel=rbf; total time=   0.0s\n",
      "\n",
      "[CV 2/5] END ..................C=0.1, gamma=1, kernel=linear; total time=   0.0s[CV 2/5] END ................C=0.1, gamma=0.0001, kernel=rbf; total time=   0.0s\n",
      "\n",
      "[CV 1/5] END ..................C=0.1, gamma=1, kernel=linear; total time=   0.0s[CV 3/5] END ................C=0.1, gamma=0.0001, kernel=rbf; total time=   0.0s\n",
      "\n",
      "[CV 1/5] END .....................C=0.1, gamma=1, kernel=rbf; total time=   0.0s\n",
      "[CV 4/5] END ..................C=0.1, gamma=1, kernel=linear; total time=   0.0s\n",
      "[CV 5/5] END ..................C=0.1, gamma=1, kernel=linear; total time=   0.0s\n",
      "[CV 3/5] END .....................C=0.1, gamma=1, kernel=rbf; total time=   0.0s\n",
      "[CV 4/5] END ................C=0.1, gamma=0.0001, kernel=rbf; total time=   0.0s\n",
      "[CV 2/5] END .....................C=0.1, gamma=1, kernel=rbf; total time=   0.0s[CV 3/5] END ..................C=0.1, gamma=1, kernel=linear; total time=   0.0s\n",
      "[CV 1/5] END ..............C=0.25, gamma=auto, kernel=linear; total time=   0.0s[CV 5/5] END ................C=0.1, gamma=0.0001, kernel=rbf; total time=   0.0s\n",
      "[CV 2/5] END ..............C=0.25, gamma=auto, kernel=linear; total time=   0.0s\n",
      "\n",
      "[CV 5/5] END .....................C=0.1, gamma=1, kernel=rbf; total time=   0.0s\n",
      "[CV 3/5] END ..............C=0.25, gamma=auto, kernel=linear; total time=   0.0s\n",
      "[CV 4/5] END .....................C=0.1, gamma=1, kernel=rbf; total time=   0.0s\n",
      "[CV 3/5] END .................C=0.25, gamma=auto, kernel=rbf; total time=   0.0s\n",
      "[CV 4/5] END ..............C=0.25, gamma=auto, kernel=linear; total time=   0.0s\n",
      "[CV 1/5] END .................C=0.25, gamma=auto, kernel=rbf; total time=   0.0s\n",
      "[CV 5/5] END .................C=0.25, gamma=auto, kernel=rbf; total time=   0.0s\n",
      "[CV 2/5] END .................C=0.25, gamma=auto, kernel=rbf; total time=   0.0s\n",
      "[CV 1/5] END ..............C=0.25, gamma=0.01, kernel=linear; total time=   0.0s\n",
      "\n",
      "[CV 3/5] END ..............C=0.25, gamma=0.01, kernel=linear; total time=   0.0s\n",
      "[CV 5/5] END ..............C=0.25, gamma=0.01, kernel=linear; total time=   0.0s\n",
      "[CV 2/5] END ..............C=0.25, gamma=0.01, kernel=linear; total time=   0.0s\n",
      "[CV 4/5] END ..............C=0.25, gamma=0.01, kernel=linear; total time=   0.0s\n",
      "[CV 3/5] END .................C=0.25, gamma=0.01, kernel=rbf; total time=   0.0s\n",
      "[CV 1/5] END .................C=0.25, gamma=0.01, kernel=rbf; total time=   0.0s[CV 4/5] END .................C=0.25, gamma=auto, kernel=rbf; total time=   0.0s\n",
      "\n",
      "[CV 4/5] END .................C=0.25, gamma=0.01, kernel=rbf; total time=   0.0s\n",
      "[CV 5/5] END .................C=0.25, gamma=0.01, kernel=rbf; total time=   0.0s\n"
     ]
    },
    {
     "name": "stdout",
     "output_type": "stream",
     "text": [
      "[CV 5/5] END ..............C=0.25, gamma=auto, kernel=linear; total time=   0.0s[CV 3/5] END .............C=0.25, gamma=0.001, kernel=linear; total time=   0.0s\n",
      "[CV 2/5] END .................C=0.25, gamma=0.01, kernel=rbf; total time=   0.0s\n",
      "[CV 4/5] END .............C=0.25, gamma=0.001, kernel=linear; total time=   0.0s[CV 1/5] END ................C=0.25, gamma=0.001, kernel=rbf; total time=   0.0s[CV 5/5] END .............C=0.25, gamma=0.001, kernel=linear; total time=   0.0s\n",
      "[CV 1/5] END .............C=0.25, gamma=0.001, kernel=linear; total time=   0.0s\n",
      "\n",
      "\n",
      "[CV 2/5] END ................C=0.25, gamma=0.001, kernel=rbf; total time=   0.0s\n",
      "[CV 4/5] END ................C=0.25, gamma=0.001, kernel=rbf; total time=   0.0s\n",
      "\n",
      "[CV 1/5] END ............C=0.25, gamma=0.0001, kernel=linear; total time=   0.0s\n",
      "[CV 5/5] END ................C=0.25, gamma=0.001, kernel=rbf; total time=   0.0s\n",
      "[CV 3/5] END ................C=0.25, gamma=0.001, kernel=rbf; total time=   0.0s\n",
      "[CV 3/5] END ............C=0.25, gamma=0.0001, kernel=linear; total time=   0.0s\n",
      "[CV 2/5] END ............C=0.25, gamma=0.0001, kernel=linear; total time=   0.0s\n",
      "[CV 2/5] END .............C=0.25, gamma=0.001, kernel=linear; total time=   0.0s[CV 4/5] END ...............C=0.25, gamma=0.0001, kernel=rbf; total time=   0.0s\n",
      "[CV 4/5] END ............C=0.25, gamma=0.0001, kernel=linear; total time=   0.0s\n",
      "[CV 5/5] END ............C=0.25, gamma=0.0001, kernel=linear; total time=   0.0s\n",
      "[CV 2/5] END ...............C=0.25, gamma=0.0001, kernel=rbf; total time=   0.0s\n",
      "\n",
      "[CV 3/5] END ...............C=0.25, gamma=0.0001, kernel=rbf; total time=   0.0s[CV 2/5] END .................C=0.25, gamma=1, kernel=linear; total time=   0.0s\n",
      "[CV 5/5] END ...............C=0.25, gamma=0.0001, kernel=rbf; total time=   0.0s\n",
      "\n",
      "[CV 5/5] END .................C=0.25, gamma=1, kernel=linear; total time=   0.0s[CV 1/5] END ...............C=0.25, gamma=0.0001, kernel=rbf; total time=   0.0s[CV 4/5] END .................C=0.25, gamma=1, kernel=linear; total time=   0.0s\n",
      "[CV 1/5] END .................C=0.25, gamma=1, kernel=linear; total time=   0.0s\n",
      "\n",
      "\n",
      "[CV 3/5] END .................C=0.25, gamma=1, kernel=linear; total time=   0.0s\n",
      "[CV 1/5] END ....................C=0.25, gamma=1, kernel=rbf; total time=   0.0s\n",
      "[CV 2/5] END ....................C=0.25, gamma=1, kernel=rbf; total time=   0.0s\n",
      "[CV 4/5] END ....................C=0.25, gamma=1, kernel=rbf; total time=   0.0s\n",
      "[CV 2/5] END ...............C=0.5, gamma=auto, kernel=linear; total time=   0.0s[CV 4/5] END ...............C=0.5, gamma=auto, kernel=linear; total time=   0.0s\n",
      "[CV 5/5] END ...............C=0.5, gamma=auto, kernel=linear; total time=   0.0s\n",
      "\n",
      "[CV 1/5] END ...............C=0.5, gamma=auto, kernel=linear; total time=   0.0s\n",
      "[CV 2/5] END ..................C=0.5, gamma=auto, kernel=rbf; total time=   0.0s[CV 5/5] END ....................C=0.25, gamma=1, kernel=rbf; total time=   0.0s\n",
      "[CV 3/5] END ....................C=0.25, gamma=1, kernel=rbf; total time=   0.0s\n",
      "[CV 4/5] END ..................C=0.5, gamma=auto, kernel=rbf; total time=   0.0s\n",
      "[CV 3/5] END ...............C=0.5, gamma=auto, kernel=linear; total time=   0.0s\n",
      "[CV 1/5] END ..................C=0.5, gamma=auto, kernel=rbf; total time=   0.0s[CV 3/5] END ..................C=0.5, gamma=auto, kernel=rbf; total time=   0.0s\n",
      "\n",
      "[CV 4/5] END ...............C=0.5, gamma=0.01, kernel=linear; total time=   0.0s\n",
      "[CV 1/5] END ...............C=0.5, gamma=0.01, kernel=linear; total time=   0.0s\n",
      "[CV 2/5] END ...............C=0.5, gamma=0.01, kernel=linear; total time=   0.0s\n",
      "[CV 3/5] END ...............C=0.5, gamma=0.01, kernel=linear; total time=   0.0s\n",
      "\n",
      "[CV 4/5] END ..................C=0.5, gamma=0.01, kernel=rbf; total time=   0.0s\n",
      "[CV 5/5] END ..................C=0.5, gamma=auto, kernel=rbf; total time=   0.0s\n",
      "[CV 3/5] END ..................C=0.5, gamma=0.01, kernel=rbf; total time=   0.0s\n",
      "[CV 2/5] END ..................C=0.5, gamma=0.01, kernel=rbf; total time=   0.0s\n",
      "[CV 2/5] END ..............C=0.5, gamma=0.001, kernel=linear; total time=   0.0s\n",
      "[CV 5/5] END ...............C=0.5, gamma=0.01, kernel=linear; total time=   0.0s[CV 4/5] END ..............C=0.5, gamma=0.001, kernel=linear; total time=   0.0s[CV 3/5] END ..............C=0.5, gamma=0.001, kernel=linear; total time=   0.0s[CV 1/5] END ..............C=0.5, gamma=0.001, kernel=linear; total time=   0.0s\n",
      "[CV 5/5] END ..................C=0.5, gamma=0.01, kernel=rbf; total time=   0.0s\n",
      "\n",
      "[CV 1/5] END ..................C=0.5, gamma=0.01, kernel=rbf; total time=   0.0s\n",
      "\n",
      "\n",
      "[CV 5/5] END ..............C=0.5, gamma=0.001, kernel=linear; total time=   0.0s\n",
      "[CV 3/5] END .................C=0.5, gamma=0.001, kernel=rbf; total time=   0.0s\n",
      "[CV 1/5] END .................C=0.5, gamma=0.001, kernel=rbf; total time=   0.0s\n",
      "[CV 2/5] END .................C=0.5, gamma=0.001, kernel=rbf; total time=   0.0s[CV 1/5] END .............C=0.5, gamma=0.0001, kernel=linear; total time=   0.0s[CV 3/5] END .............C=0.5, gamma=0.0001, kernel=linear; total time=   0.0s\n",
      "\n",
      "[CV 2/5] END .............C=0.5, gamma=0.0001, kernel=linear; total time=   0.0s\n",
      "\n",
      "[CV 4/5] END .................C=0.5, gamma=0.001, kernel=rbf; total time=   0.0s\n",
      "[CV 5/5] END .................C=0.5, gamma=0.001, kernel=rbf; total time=   0.0s[CV 4/5] END .............C=0.5, gamma=0.0001, kernel=linear; total time=   0.0s\n",
      "[CV 2/5] END ................C=0.5, gamma=0.0001, kernel=rbf; total time=   0.0s\n",
      "\n",
      "[CV 4/5] END ................C=0.5, gamma=0.0001, kernel=rbf; total time=   0.0s\n",
      "[CV 5/5] END ................C=0.5, gamma=0.0001, kernel=rbf; total time=   0.0s\n",
      "[CV 2/5] END ..................C=0.5, gamma=1, kernel=linear; total time=   0.0s\n",
      "[CV 5/5] END .............C=0.5, gamma=0.0001, kernel=linear; total time=   0.0s\n",
      "[CV 4/5] END ..................C=0.5, gamma=1, kernel=linear; total time=   0.0s\n",
      "[CV 3/5] END ................C=0.5, gamma=0.0001, kernel=rbf; total time=   0.0s\n",
      "[CV 3/5] END ..................C=0.5, gamma=1, kernel=linear; total time=   0.0s\n",
      "[CV 1/5] END ..................C=0.5, gamma=1, kernel=linear; total time=   0.0s\n",
      "[CV 1/5] END ................C=0.5, gamma=0.0001, kernel=rbf; total time=   0.0s\n",
      "[CV 4/5] END .....................C=0.5, gamma=1, kernel=rbf; total time=   0.0s[CV 5/5] END .....................C=0.5, gamma=1, kernel=rbf; total time=   0.0s\n",
      "[CV 1/5] END .....................C=0.5, gamma=1, kernel=rbf; total time=   0.0s[CV 2/5] END .....................C=0.5, gamma=1, kernel=rbf; total time=   0.0s\n",
      "\n",
      "\n",
      "[CV 3/5] END .....................C=0.5, gamma=1, kernel=rbf; total time=   0.0s[CV 2/5] END .................C=2, gamma=auto, kernel=linear; total time=   0.0s\n",
      "[CV 5/5] END ..................C=0.5, gamma=1, kernel=linear; total time=   0.0s\n",
      "[CV 4/5] END .................C=2, gamma=auto, kernel=linear; total time=   0.0s\n",
      "\n",
      "[CV 3/5] END .................C=2, gamma=auto, kernel=linear; total time=   0.0s[CV 1/5] END .................C=2, gamma=auto, kernel=linear; total time=   0.0s\n",
      "[CV 2/5] END ....................C=2, gamma=auto, kernel=rbf; total time=   0.0s\n",
      "[CV 3/5] END ....................C=2, gamma=auto, kernel=rbf; total time=   0.0s\n",
      "\n",
      "[CV 1/5] END .................C=2, gamma=0.01, kernel=linear; total time=   0.0s\n",
      "[CV 4/5] END ....................C=2, gamma=auto, kernel=rbf; total time=   0.0s\n",
      "[CV 1/5] END ....................C=2, gamma=auto, kernel=rbf; total time=   0.0s\n",
      "[CV 3/5] END .................C=2, gamma=0.01, kernel=linear; total time=   0.0s\n",
      "[CV 5/5] END .................C=2, gamma=auto, kernel=linear; total time=   0.0s\n",
      "[CV 2/5] END .................C=2, gamma=0.01, kernel=linear; total time=   0.0s\n",
      "[CV 1/5] END ....................C=2, gamma=0.01, kernel=rbf; total time=   0.0s\n",
      "[CV 3/5] END ....................C=2, gamma=0.01, kernel=rbf; total time=   0.0s[CV 1/5] END ................C=2, gamma=0.001, kernel=linear; total time=   0.0s\n",
      "[CV 4/5] END .................C=2, gamma=0.01, kernel=linear; total time=   0.0s\n",
      "[CV 2/5] END ....................C=2, gamma=0.01, kernel=rbf; total time=   0.0s\n",
      "[CV 5/5] END ....................C=2, gamma=0.01, kernel=rbf; total time=   0.0s[CV 5/5] END ....................C=2, gamma=auto, kernel=rbf; total time=   0.0s[CV 4/5] END ................C=2, gamma=0.001, kernel=linear; total time=   0.0s\n",
      "[CV 5/5] END .................C=2, gamma=0.01, kernel=linear; total time=   0.0s[CV 3/5] END ................C=2, gamma=0.001, kernel=linear; total time=   0.0s\n",
      "[CV 4/5] END ....................C=2, gamma=0.01, kernel=rbf; total time=   0.0s\n",
      "\n",
      "\n",
      "\n",
      "\n",
      "[CV 2/5] END ...................C=2, gamma=0.001, kernel=rbf; total time=   0.0s\n",
      "[CV 1/5] END ...................C=2, gamma=0.001, kernel=rbf; total time=   0.0s\n",
      "[CV 5/5] END ...................C=2, gamma=0.001, kernel=rbf; total time=   0.0s\n",
      "[CV 5/5] END ................C=2, gamma=0.001, kernel=linear; total time=   0.0s\n",
      "[CV 3/5] END ...............C=2, gamma=0.0001, kernel=linear; total time=   0.0s\n",
      "[CV 4/5] END ...............C=2, gamma=0.0001, kernel=linear; total time=   0.0s\n",
      "[CV 1/5] END ...............C=2, gamma=0.0001, kernel=linear; total time=   0.0s\n",
      "[CV 2/5] END ................C=2, gamma=0.001, kernel=linear; total time=   0.0s\n",
      "[CV 4/5] END ...................C=2, gamma=0.001, kernel=rbf; total time=   0.0s\n",
      "[CV 2/5] END ...............C=2, gamma=0.0001, kernel=linear; total time=   0.0s\n",
      "[CV 3/5] END ...................C=2, gamma=0.001, kernel=rbf; total time=   0.0s\n",
      "[CV 2/5] END ....................C=2, gamma=1, kernel=linear; total time=   0.0s\n",
      "[CV 1/5] END ..................C=2, gamma=0.0001, kernel=rbf; total time=   0.0s\n",
      "[CV 3/5] END ..................C=2, gamma=0.0001, kernel=rbf; total time=   0.0s\n",
      "[CV 5/5] END ..................C=2, gamma=0.0001, kernel=rbf; total time=   0.0s\n",
      "[CV 1/5] END ....................C=2, gamma=1, kernel=linear; total time=   0.0s[CV 5/5] END ....................C=2, gamma=1, kernel=linear; total time=   0.0s\n",
      "[CV 5/5] END ...............C=2, gamma=0.0001, kernel=linear; total time=   0.0s\n",
      "[CV 2/5] END ..................C=2, gamma=0.0001, kernel=rbf; total time=   0.0s\n",
      "\n",
      "[CV 3/5] END ....................C=2, gamma=1, kernel=linear; total time=   0.0s\n",
      "[CV 1/5] END .......................C=2, gamma=1, kernel=rbf; total time=   0.0s[CV 5/5] END .......................C=2, gamma=1, kernel=rbf; total time=   0.0s\n",
      "\n",
      "[CV 2/5] END .......................C=2, gamma=1, kernel=rbf; total time=   0.0s\n",
      "[CV 4/5] END .......................C=2, gamma=1, kernel=rbf; total time=   0.0s\n"
     ]
    },
    {
     "name": "stdout",
     "output_type": "stream",
     "text": [
      "[CV 4/5] END ..................C=2, gamma=0.0001, kernel=rbf; total time=   0.0s\n",
      "[CV 1/5] END ..............C=0.75, gamma=auto, kernel=linear; total time=   0.0s[CV 4/5] END ....................C=2, gamma=1, kernel=linear; total time=   0.0s\n",
      "[CV 3/5] END .......................C=2, gamma=1, kernel=rbf; total time=   0.0s\n",
      "\n",
      "[CV 5/5] END ..............C=0.75, gamma=auto, kernel=linear; total time=   0.0s[CV 3/5] END ..............C=0.75, gamma=auto, kernel=linear; total time=   0.0s\n",
      "[CV 4/5] END ..............C=0.75, gamma=auto, kernel=linear; total time=   0.0s\n",
      "[CV 1/5] END .................C=0.75, gamma=auto, kernel=rbf; total time=   0.0s\n",
      "[CV 5/5] END .................C=0.75, gamma=auto, kernel=rbf; total time=   0.0s\n",
      "[CV 2/5] END ..............C=0.75, gamma=auto, kernel=linear; total time=   0.0s\n",
      "\n",
      "[CV 2/5] END ..............C=0.75, gamma=0.01, kernel=linear; total time=   0.0s[CV 3/5] END .................C=0.75, gamma=auto, kernel=rbf; total time=   0.0s\n",
      "[CV 1/5] END ..............C=0.75, gamma=0.01, kernel=linear; total time=   0.0s\n",
      "\n",
      "[CV 2/5] END .................C=0.75, gamma=0.01, kernel=rbf; total time=   0.0s\n",
      "[CV 1/5] END .................C=0.75, gamma=0.01, kernel=rbf; total time=   0.0s\n",
      "[CV 3/5] END ..............C=0.75, gamma=0.01, kernel=linear; total time=   0.0s\n",
      "[CV 2/5] END .................C=0.75, gamma=auto, kernel=rbf; total time=   0.0s\n",
      "[CV 4/5] END ..............C=0.75, gamma=0.01, kernel=linear; total time=   0.0s\n",
      "[CV 5/5] END ..............C=0.75, gamma=0.01, kernel=linear; total time=   0.0s\n",
      "[CV 4/5] END .................C=0.75, gamma=0.01, kernel=rbf; total time=   0.0s\n",
      "[CV 2/5] END .............C=0.75, gamma=0.001, kernel=linear; total time=   0.0s\n",
      "[CV 5/5] END .............C=0.75, gamma=0.001, kernel=linear; total time=   0.0s[CV 5/5] END .................C=0.75, gamma=0.01, kernel=rbf; total time=   0.0s[CV 4/5] END .................C=0.75, gamma=auto, kernel=rbf; total time=   0.0s\n",
      "\n",
      "\n",
      "[CV 3/5] END .............C=0.75, gamma=0.001, kernel=linear; total time=   0.0s[CV 1/5] END .............C=0.75, gamma=0.001, kernel=linear; total time=   0.0s\n",
      "\n",
      "[CV 4/5] END .............C=0.75, gamma=0.001, kernel=linear; total time=   0.0s\n",
      "[CV 3/5] END .................C=0.75, gamma=0.01, kernel=rbf; total time=   0.0s\n",
      "[CV 1/5] END ................C=0.75, gamma=0.001, kernel=rbf; total time=   0.0s\n",
      "[CV 4/5] END ................C=0.75, gamma=0.001, kernel=rbf; total time=   0.0s[CV 5/5] END ................C=0.75, gamma=0.001, kernel=rbf; total time=   0.0s\n",
      "[CV 3/5] END ................C=0.75, gamma=0.001, kernel=rbf; total time=   0.0s\n",
      "[CV 3/5] END ............C=0.75, gamma=0.0001, kernel=linear; total time=   0.0s[CV 2/5] END ................C=0.75, gamma=0.001, kernel=rbf; total time=   0.0s\n",
      "\n",
      "[CV 2/5] END ............C=0.75, gamma=0.0001, kernel=linear; total time=   0.0s\n",
      "\n",
      "[CV 1/5] END ...............C=0.75, gamma=0.0001, kernel=rbf; total time=   0.0s[CV 4/5] END ............C=0.75, gamma=0.0001, kernel=linear; total time=   0.0s\n",
      "[CV 2/5] END ...............C=0.75, gamma=0.0001, kernel=rbf; total time=   0.0s\n",
      "\n",
      "[CV 5/5] END ............C=0.75, gamma=0.0001, kernel=linear; total time=   0.0s\n",
      "[CV 1/5] END ............C=0.75, gamma=0.0001, kernel=linear; total time=   0.0s\n",
      "[CV 2/5] END .................C=0.75, gamma=1, kernel=linear; total time=   0.0s\n",
      "[CV 5/5] END ...............C=0.75, gamma=0.0001, kernel=rbf; total time=   0.0s\n",
      "[CV 4/5] END .................C=0.75, gamma=1, kernel=linear; total time=   0.0s\n",
      "[CV 4/5] END ...............C=0.75, gamma=0.0001, kernel=rbf; total time=   0.0s\n",
      "[CV 1/5] END ....................C=0.75, gamma=1, kernel=rbf; total time=   0.0s[CV 3/5] END ...............C=0.75, gamma=0.0001, kernel=rbf; total time=   0.0s\n",
      "[CV 5/5] END .................C=0.75, gamma=1, kernel=linear; total time=   0.0s\n",
      "\n",
      "[CV 2/5] END ....................C=0.75, gamma=1, kernel=rbf; total time=   0.0s\n",
      "[CV 3/5] END ....................C=0.75, gamma=1, kernel=rbf; total time=   0.0s\n",
      "[CV 3/5] END .................C=0.75, gamma=1, kernel=linear; total time=   0.0s\n",
      "[CV 4/5] END ....................C=0.75, gamma=1, kernel=rbf; total time=   0.0s[CV 1/5] END .................C=0.75, gamma=1, kernel=linear; total time=   0.0s\n",
      "\n",
      "[CV 5/5] END ....................C=0.75, gamma=1, kernel=rbf; total time=   0.0s\n",
      "Best score:  0.7889473684210526\n",
      "Best params:  {'C': 1, 'gamma': 'auto', 'kernel': 'linear'}\n",
      "Wall time: 1.47 s\n"
     ]
    }
   ],
   "source": [
    "%%time\n",
    "import joblib\n",
    "from joblib import parallel_backend\n",
    "\n",
    "params = {'C': [1,0.1,0.25,0.5,2,0.75],\n",
    "          'gamma': [\"auto\",0.01,0.001,0.0001,1],'kernel': [\"linear\",\"rbf\"]}\n",
    "\n",
    "grid = GridSearchCV(estimator = svc, n_jobs = -1, cv = 5, verbose=3, param_grid = params)\n",
    "with parallel_backend('threading'):\n",
    "    grid.fit(X_train,y_train)\n",
    "\n",
    "print(\"Best score: \", grid.best_score_)\n",
    "print(\"Best params: \", grid.best_params_)"
   ]
  },
  {
   "cell_type": "markdown",
   "id": "6c4bb75e",
   "metadata": {},
   "source": [
    "Apicamos los parámetros obteidos al modelo y volvemos a predecir los resultados"
   ]
  },
  {
   "cell_type": "code",
   "execution_count": 16,
   "id": "013924b0",
   "metadata": {
    "scrolled": true
   },
   "outputs": [
    {
     "name": "stdout",
     "output_type": "stream",
     "text": [
      "Train accurancy:  0.8080808080808081\n",
      "Test accurancy:  0.92\n",
      "Wall time: 9.18 ms\n"
     ]
    }
   ],
   "source": [
    "%%time\n",
    "svc = SVC(C= 0.1, gamma= 'auto', kernel= 'linear')\n",
    "svc.fit(X_train, y_train)\n",
    "print(\"Train accurancy: \", svc.score(X_train, y_train))\n",
    "print(\"Test accurancy: \", svc.score(X_test, y_test))\n"
   ]
  },
  {
   "cell_type": "markdown",
   "id": "609f0cc8",
   "metadata": {},
   "source": [
    "**Neural Network**"
   ]
  },
  {
   "cell_type": "code",
   "execution_count": 17,
   "id": "2db24448",
   "metadata": {
    "scrolled": true
   },
   "outputs": [
    {
     "name": "stdout",
     "output_type": "stream",
     "text": [
      "Train accurancy:  0.7777777777777778\n",
      "Test accurancy:  0.88\n",
      "Wall time: 104 ms\n"
     ]
    }
   ],
   "source": [
    "%%time\n",
    "#we are going to use the MLP Classifier\n",
    "generic_mlp=MLPClassifier()\n",
    "generic_mlp.fit(X_train, y_train)\n",
    "print(\"Train accurancy: \", generic_mlp.score(X_train, y_train))\n",
    "print(\"Test accurancy: \", generic_mlp.score(X_test, y_test))"
   ]
  },
  {
   "cell_type": "code",
   "execution_count": null,
   "id": "9d48cd08",
   "metadata": {
    "scrolled": true
   },
   "outputs": [],
   "source": [
    "%%time\n",
    "parameters_mlp={\n",
    "    'hidden_layer_sizes': [(50,50), (100,50),(20,),(32,16),\n",
    "                           (16,16),(32,16,8),(16,8),(8,8),(8),(16,8,4)],\n",
    "    'activation': ['identity','logistic','tanh', 'relu'],\n",
    "    'solver': ['lbfgs','sgd', 'adam'],\n",
    "    'alpha': [0.0001, 0.005,0.05,0.1],\n",
    "    'learning_rate': ['constant','adaptive'],\n",
    "}\n",
    "new_mlp=MLPClassifier()\n",
    "tunned_mlp=GridSearchCV(new_mlp,parameters_mlp,n_jobs=-1,cv=5)\n",
    "\n",
    "tunned_mlp.fit(X_train, y_train)\n",
    "\n",
    "#we print the parameters and the scores\n",
    "print(tunned_mlp.best_params_)\n",
    "print(tunned_mlp.best_score_)"
   ]
  },
  {
   "cell_type": "code",
   "execution_count": null,
   "id": "33a8832b",
   "metadata": {
    "scrolled": true
   },
   "outputs": [],
   "source": [
    "%%time\n",
    "y_predicted_mlp = tunned_mlp.predict(X_test)\n",
    "y_predicted_mlp"
   ]
  },
  {
   "cell_type": "code",
   "execution_count": null,
   "id": "597506a3",
   "metadata": {
    "scrolled": true
   },
   "outputs": [],
   "source": [
    "%%time\n",
    "conf_matrix_test_NN= confusion_matrix(y_test,y_predicted_mlp)\n",
    "conf_matrix_test_NN\n",
    "#We plot this matrix\n",
    "plot_confusion_matrix(conf_matrix_test_NN)\n",
    "print('Accuracy is: ' + str(tunned_mlp.best_score_))"
   ]
  },
  {
   "cell_type": "code",
   "execution_count": null,
   "id": "6f0c1d7a",
   "metadata": {
    "scrolled": true
   },
   "outputs": [],
   "source": []
  }
 ],
 "metadata": {
  "kernelspec": {
   "display_name": "Python 3",
   "language": "python",
   "name": "python3"
  },
  "language_info": {
   "codemirror_mode": {
    "name": "ipython",
    "version": 3
   },
   "file_extension": ".py",
   "mimetype": "text/x-python",
   "name": "python",
   "nbconvert_exporter": "python",
   "pygments_lexer": "ipython3",
   "version": "3.8.8"
  }
 },
 "nbformat": 4,
 "nbformat_minor": 5
}
